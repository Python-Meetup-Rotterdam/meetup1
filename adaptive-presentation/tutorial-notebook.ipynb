{
 "cells": [
  {
   "cell_type": "code",
   "execution_count": null,
   "metadata": {},
   "outputs": [],
   "source": [
    "%%HTML\n",
    "<style>.container {width: 90%}</style>"
   ]
  },
  {
   "cell_type": "markdown",
   "metadata": {},
   "source": [
    "# `adaptive` tutorial\n",
    "Install with\n",
    "```bash\n",
    "conda install -c conda-forge adaptive  # recommended\n",
    "pip install adaptive\n",
    "```"
   ]
  },
  {
   "cell_type": "code",
   "execution_count": null,
   "metadata": {
    "extensions": {
     "jupyter_dashboards": {
      "version": 1,
      "views": {
       "grid_default": {
        "col": 8,
        "height": 4,
        "hidden": false,
        "row": 0,
        "width": 4
       },
       "report_default": {}
      }
     }
    },
    "slideshow": {
     "slide_type": "-"
    }
   },
   "outputs": [],
   "source": [
    "import adaptive\n",
    "adaptive.notebook_extension()\n",
    "\n",
    "from functools import partial\n",
    "import random\n",
    "import numpy as np"
   ]
  },
  {
   "cell_type": "markdown",
   "metadata": {
    "extensions": {
     "jupyter_dashboards": {
      "version": 1,
      "views": {
       "grid_default": {
        "col": 0,
        "height": 4,
        "hidden": false,
        "row": 24,
        "width": 4
       },
       "report_default": {}
      }
     }
    },
    "slideshow": {
     "slide_type": "-"
    }
   },
   "source": [
    "# 1D function learner: `Learner1D`"
   ]
  },
  {
   "cell_type": "code",
   "execution_count": null,
   "metadata": {
    "extensions": {
     "jupyter_dashboards": {
      "version": 1,
      "views": {
       "grid_default": {
        "hidden": true
       },
       "report_default": {}
      }
     }
    }
   },
   "outputs": [],
   "source": [
    "offset = random.uniform(-0.5, 0.5)\n",
    "\n",
    "def f(x, offset=offset, wait=True):\n",
    "    from random import random\n",
    "    from time import sleep\n",
    "\n",
    "    if wait:\n",
    "        sleep(2 * random())\n",
    "\n",
    "    a = 0.01\n",
    "    return x + a**2 / (a**2 + (x - offset)**2)"
   ]
  },
  {
   "cell_type": "markdown",
   "metadata": {
    "extensions": {
     "jupyter_dashboards": {
      "version": 1,
      "views": {
       "grid_default": {
        "col": 0,
        "height": 4,
        "hidden": false,
        "row": 28,
        "width": 4
       },
       "report_default": {}
      }
     }
    }
   },
   "source": [
    "We start by initializing a 1D \"learner\", which will suggest points to evaluate, and adapt its suggestions as more and more points are evaluated."
   ]
  },
  {
   "cell_type": "code",
   "execution_count": null,
   "metadata": {
    "extensions": {
     "jupyter_dashboards": {
      "version": 1,
      "views": {
       "grid_default": {
        "hidden": true
       },
       "report_default": {}
      }
     }
    }
   },
   "outputs": [],
   "source": [
    "learner = adaptive.Learner1D(f, bounds=(-1, 1))\n",
    "runner = adaptive.Runner(learner, goal=lambda l: l.loss() < 0.01)\n",
    "runner.live_info()"
   ]
  },
  {
   "cell_type": "markdown",
   "metadata": {
    "extensions": {
     "jupyter_dashboards": {
      "version": 1,
      "views": {
       "grid_default": {
        "col": 0,
        "height": 4,
        "hidden": false,
        "row": 57,
        "width": 4
       },
       "report_default": {}
      }
     }
    }
   },
   "source": [
    "When instantiated in a Jupyter notebook the runner does its job in the background and does not block the IPython kernel.\n",
    "We can use this to create a plot that updates as new data arrives:"
   ]
  },
  {
   "cell_type": "code",
   "execution_count": null,
   "metadata": {
    "extensions": {
     "jupyter_dashboards": {
      "version": 1,
      "views": {
       "grid_default": {
        "hidden": true
       },
       "report_default": {}
      }
     }
    }
   },
   "outputs": [],
   "source": [
    "runner.live_plot(update_interval=0.1)"
   ]
  },
  {
   "cell_type": "code",
   "execution_count": null,
   "metadata": {},
   "outputs": [],
   "source": [
    "learner.loss()"
   ]
  },
  {
   "cell_type": "markdown",
   "metadata": {
    "extensions": {
     "jupyter_dashboards": {
      "version": 1,
      "views": {
       "grid_default": {
        "col": 4,
        "height": 4,
        "hidden": false,
        "row": 57,
        "width": 4
       },
       "report_default": {}
      }
     }
    }
   },
   "source": [
    "We can now compare the adaptive sampling to a homogeneous sampling with the same number of points:"
   ]
  },
  {
   "cell_type": "code",
   "execution_count": null,
   "metadata": {
    "extensions": {
     "jupyter_dashboards": {
      "version": 1,
      "views": {
       "grid_default": {
        "hidden": true
       },
       "report_default": {}
      }
     }
    }
   },
   "outputs": [],
   "source": [
    "learner2 = adaptive.Learner1D(f, bounds=learner.bounds)\n",
    "\n",
    "xs = np.linspace(*learner.bounds, len(learner.data))\n",
    "learner2.add_data(xs, map(partial(f, wait=False), xs))\n",
    "\n",
    "learner2.plot().relabel('homogeneous') + learner.plot().relabel('adaptive')"
   ]
  },
  {
   "cell_type": "markdown",
   "metadata": {
    "extensions": {
     "jupyter_dashboards": {
      "version": 1,
      "views": {
       "grid_default": {
        "col": 8,
        "height": 4,
        "hidden": false,
        "row": 57,
        "width": 4
       },
       "report_default": {}
      }
     }
    }
   },
   "source": [
    "# 2D function learner"
   ]
  },
  {
   "cell_type": "markdown",
   "metadata": {
    "extensions": {
     "jupyter_dashboards": {
      "version": 1,
      "views": {
       "grid_default": {
        "col": 11,
        "height": 4,
        "hidden": false,
        "row": 21,
        "width": null
       },
       "report_default": {}
      }
     }
    }
   },
   "source": [
    "Besides 1D functions, we can also learn 2D functions: $\\ f: ℝ^2 → ℝ^N$"
   ]
  },
  {
   "cell_type": "code",
   "execution_count": null,
   "metadata": {
    "extensions": {
     "jupyter_dashboards": {
      "version": 1,
      "views": {
       "grid_default": {
        "hidden": true
       },
       "report_default": {}
      }
     }
    }
   },
   "outputs": [],
   "source": [
    "def ring(xy, wait=True):\n",
    "    import numpy as np\n",
    "    from time import sleep\n",
    "    from random import random\n",
    "    if wait:\n",
    "        sleep(random() / 3)\n",
    "    x, y = xy\n",
    "    a = 0.2\n",
    "    return x + np.exp(-(x**2 + y**2 - 0.75**2)**2/a**4)\n",
    "\n",
    "learner = adaptive.Learner2D(ring, bounds=[(-1, 1), (-1, 1)])"
   ]
  },
  {
   "cell_type": "code",
   "execution_count": null,
   "metadata": {
    "extensions": {
     "jupyter_dashboards": {
      "version": 1,
      "views": {
       "grid_default": {
        "col": 0,
        "height": 5,
        "hidden": false,
        "row": 61,
        "width": 4
       },
       "report_default": {}
      }
     }
    }
   },
   "outputs": [],
   "source": [
    "runner = adaptive.Runner(learner, goal=lambda l: l.loss() < 0.01)\n",
    "runner.live_info()"
   ]
  },
  {
   "cell_type": "code",
   "execution_count": null,
   "metadata": {
    "extensions": {
     "jupyter_dashboards": {
      "version": 1,
      "views": {
       "grid_default": {
        "col": 0,
        "height": 17,
        "hidden": false,
        "row": 72,
        "width": 10
       },
       "report_default": {}
      }
     }
    }
   },
   "outputs": [],
   "source": [
    "def plot(learner):\n",
    "    plot = learner.plot(tri_alpha=0.2)\n",
    "    title = f'loss={learner._loss:.3f}, n_points={learner.npoints}'\n",
    "    return (plot.Image\n",
    "            + plot.EdgePaths.I.opts(plot=dict(title_format=title))\n",
    "            + plot)\n",
    "\n",
    "runner.live_plot(plotter=plot, update_interval=0.1)"
   ]
  },
  {
   "cell_type": "code",
   "execution_count": null,
   "metadata": {
    "extensions": {
     "jupyter_dashboards": {
      "version": 1,
      "views": {
       "grid_default": {
        "col": 0,
        "height": 22,
        "hidden": false,
        "row": 89,
        "width": 7
       },
       "report_default": {}
      }
     }
    }
   },
   "outputs": [],
   "source": [
    "%%opts EdgePaths (color='w')\n",
    "\n",
    "import itertools\n",
    "\n",
    "# Create a learner and add data on homogeneous grid, so that we can plot it\n",
    "learner2 = adaptive.Learner2D(ring, bounds=learner.bounds)\n",
    "n = int(learner.npoints**0.5)\n",
    "xs, ys = [np.linspace(*bounds, n) for bounds in learner.bounds]\n",
    "xys = list(itertools.product(xs, ys))\n",
    "learner2.add_data(xys, map(partial(ring, wait=False), xys))\n",
    "\n",
    "(learner2.plot(n).relabel('Homogeneous grid') + learner.plot().relabel('With adaptive') + \n",
    " learner2.plot(n, tri_alpha=0.4) + learner.plot(tri_alpha=0.4)).cols(2)"
   ]
  },
  {
   "cell_type": "markdown",
   "metadata": {
    "extensions": {
     "jupyter_dashboards": {
      "version": 1,
      "views": {
       "grid_default": {
        "col": 8,
        "height": 4,
        "hidden": false,
        "row": 61,
        "width": 4
       },
       "report_default": {}
      }
     }
    }
   },
   "source": [
    "# Averaging learner"
   ]
  },
  {
   "cell_type": "markdown",
   "metadata": {
    "extensions": {
     "jupyter_dashboards": {
      "version": 1,
      "views": {
       "grid_default": {
        "col": 0,
        "height": 4,
        "hidden": false,
        "row": 111,
        "width": 12
       },
       "report_default": {}
      }
     }
    }
   },
   "source": [
    "The next type of learner averages a function until the uncertainty in the average meets some condition.\n",
    "\n",
    "This is useful for sampling a random variable. The function passed to the learner must formally take a single parameter,\n",
    "which should be used like a \"seed\" for the (pseudo-) random variable (although in the current implementation the seed parameter can be ignored by the function)."
   ]
  },
  {
   "cell_type": "code",
   "execution_count": null,
   "metadata": {
    "extensions": {
     "jupyter_dashboards": {
      "version": 1,
      "views": {
       "grid_default": {
        "hidden": true
       },
       "report_default": {}
      }
     }
    }
   },
   "outputs": [],
   "source": [
    "def g(n):\n",
    "    import random\n",
    "    from time import sleep\n",
    "    sleep(random.random() / 4000)\n",
    "    return random.gauss(mu=0.5, sigma=1)"
   ]
  },
  {
   "cell_type": "code",
   "execution_count": null,
   "metadata": {
    "extensions": {
     "jupyter_dashboards": {
      "version": 1,
      "views": {
       "grid_default": {
        "col": 8,
        "height": 5,
        "hidden": false,
        "row": 65,
        "width": 4
       },
       "report_default": {}
      }
     }
    }
   },
   "outputs": [],
   "source": [
    "learner = adaptive.AverageLearner(g, atol=None, rtol=0.01)\n",
    "runner = adaptive.Runner(learner, goal=lambda l: l.loss() < 1)\n",
    "runner.live_info()"
   ]
  },
  {
   "cell_type": "code",
   "execution_count": null,
   "metadata": {
    "extensions": {
     "jupyter_dashboards": {
      "version": 1,
      "views": {
       "grid_default": {
        "col": 7,
        "height": 16,
        "hidden": false,
        "row": 89,
        "width": 4
       },
       "report_default": {}
      }
     }
    }
   },
   "outputs": [],
   "source": [
    "runner.live_plot(update_interval=0.1)"
   ]
  },
  {
   "cell_type": "markdown",
   "metadata": {
    "extensions": {
     "jupyter_dashboards": {
      "version": 1,
      "views": {
       "grid_default": {
        "col": 0,
        "height": 4,
        "hidden": false,
        "row": 66,
        "width": 4
       },
       "report_default": {}
      }
     }
    }
   },
   "source": [
    "# 1D integration learner with `cquad`"
   ]
  },
  {
   "cell_type": "markdown",
   "metadata": {
    "extensions": {
     "jupyter_dashboards": {
      "version": 1,
      "views": {
       "grid_default": {
        "col": 0,
        "height": 4,
        "hidden": false,
        "row": 115,
        "width": 12
       },
       "report_default": {}
      }
     }
    }
   },
   "source": [
    "This learner learns a 1D function and calculates the integral and error of the integral with it. It is based on Pedro Gonnet's [implementation](https://www.academia.edu/1976055/Adaptive_quadrature_re-revisited).\n",
    "\n",
    "Let's try the following function with cusps (that is difficult to integrate):"
   ]
  },
  {
   "cell_type": "code",
   "execution_count": null,
   "metadata": {
    "extensions": {
     "jupyter_dashboards": {
      "version": 1,
      "views": {
       "grid_default": {
        "hidden": true
       },
       "report_default": {}
      }
     }
    }
   },
   "outputs": [],
   "source": [
    "import holoviews as hv\n",
    "\n",
    "def f24(x):\n",
    "    return np.floor(np.exp(x))\n",
    "\n",
    "xs = np.linspace(0, 3, 200)\n",
    "hv.Scatter((xs, [f24(x) for x in xs]))"
   ]
  },
  {
   "cell_type": "markdown",
   "metadata": {
    "extensions": {
     "jupyter_dashboards": {
      "version": 1,
      "views": {
       "grid_default": {
        "col": 7,
        "height": 4,
        "hidden": false,
        "row": 105,
        "width": 4
       },
       "report_default": {}
      }
     }
    }
   },
   "source": [
    "Just to prove that this really is a difficult to integrate function, let's try a familiar function integrator `scipy.integrate.quad`, which will give us warnings that it encounters difficulties."
   ]
  },
  {
   "cell_type": "code",
   "execution_count": null,
   "metadata": {
    "extensions": {
     "jupyter_dashboards": {
      "version": 1,
      "views": {
       "grid_default": {
        "hidden": true
       },
       "report_default": {}
      }
     }
    }
   },
   "outputs": [],
   "source": [
    "import scipy.integrate\n",
    "scipy.integrate.quad(f24, 0, 3)"
   ]
  },
  {
   "cell_type": "markdown",
   "metadata": {
    "extensions": {
     "jupyter_dashboards": {
      "version": 1,
      "views": {
       "grid_default": {
        "col": 0,
        "height": 4,
        "hidden": false,
        "row": 119,
        "width": 12
       },
       "report_default": {}
      }
     }
    }
   },
   "source": [
    "We initialize a learner again and pass the bounds and relative tolerance we want to reach. Then in the `Runner` we pass `goal=lambda l: l.done()` where `learner.done()` is `True` when the relative tolerance has been reached."
   ]
  },
  {
   "cell_type": "code",
   "execution_count": null,
   "metadata": {
    "extensions": {
     "jupyter_dashboards": {
      "version": 1,
      "views": {
       "grid_default": {
        "hidden": true
       },
       "report_default": {}
      }
     }
    }
   },
   "outputs": [],
   "source": [
    "from adaptive.runner import SequentialExecutor\n",
    "\n",
    "learner = adaptive.IntegratorLearner(f24, bounds=(0, 3), tol=1e-10)\n",
    "runner = adaptive.Runner(learner, executor=SequentialExecutor(), goal=lambda l: l.done())\n",
    "runner.live_info()"
   ]
  },
  {
   "cell_type": "markdown",
   "metadata": {
    "extensions": {
     "jupyter_dashboards": {
      "version": 1,
      "views": {
       "grid_default": {
        "col": 0,
        "height": 4,
        "hidden": false,
        "row": 123,
        "width": 4
       },
       "report_default": {}
      }
     }
    }
   },
   "source": [
    "Now we could do the live plotting again, but lets just wait untill the runner is done."
   ]
  },
  {
   "cell_type": "code",
   "execution_count": null,
   "metadata": {
    "extensions": {
     "jupyter_dashboards": {
      "version": 1,
      "views": {
       "grid_default": {
        "hidden": true
       },
       "report_default": {}
      }
     }
    }
   },
   "outputs": [],
   "source": [
    "print('The integral value is {} with the corresponding error of {}'.format(learner.igral, learner.err))\n",
    "learner.plot()"
   ]
  },
  {
   "cell_type": "markdown",
   "metadata": {
    "extensions": {
     "jupyter_dashboards": {
      "version": 1,
      "views": {
       "grid_default": {
        "col": 4,
        "height": 4,
        "hidden": false,
        "row": 123,
        "width": 4
       },
       "report_default": {}
      }
     }
    }
   },
   "source": [
    "# 1D learner with vector output: `f:ℝ → ℝ^N`"
   ]
  },
  {
   "cell_type": "markdown",
   "metadata": {
    "extensions": {
     "jupyter_dashboards": {
      "version": 1,
      "views": {
       "grid_default": {
        "col": 8,
        "height": 4,
        "hidden": false,
        "row": 123,
        "width": 4
       },
       "report_default": {}
      }
     }
    }
   },
   "source": [
    "Sometimes you may want to learn a function with vector output:"
   ]
  },
  {
   "cell_type": "code",
   "execution_count": null,
   "metadata": {
    "extensions": {
     "jupyter_dashboards": {
      "version": 1,
      "views": {
       "grid_default": {
        "hidden": true
       },
       "report_default": {}
      }
     }
    }
   },
   "outputs": [],
   "source": [
    "random.seed(0)\n",
    "offsets = [random.uniform(-0.8, 0.8) for _ in range(3)]\n",
    "\n",
    "# sharp peaks at random locations in the domain\n",
    "def f_levels(x, offsets=offsets):\n",
    "    a = 0.01\n",
    "    return np.array([offset + x + a**2 / (a**2 + (x - offset)**2)\n",
    "                     for offset in offsets])"
   ]
  },
  {
   "cell_type": "markdown",
   "metadata": {
    "extensions": {
     "jupyter_dashboards": {
      "version": 1,
      "views": {
       "grid_default": {
        "col": 0,
        "height": 4,
        "hidden": false,
        "row": 127,
        "width": 4
       },
       "report_default": {}
      }
     }
    }
   },
   "source": [
    "`adaptive` has you covered! The `Learner1D` can be used for such functions:"
   ]
  },
  {
   "cell_type": "code",
   "execution_count": null,
   "metadata": {
    "extensions": {
     "jupyter_dashboards": {
      "version": 1,
      "views": {
       "grid_default": {
        "hidden": true
       },
       "report_default": {}
      }
     }
    }
   },
   "outputs": [],
   "source": [
    "learner = adaptive.Learner1D(f_levels, bounds=(-1, 1))\n",
    "runner = adaptive.Runner(learner, goal=lambda l: l.loss() < 0.01)\n",
    "runner.live_info()"
   ]
  },
  {
   "cell_type": "code",
   "execution_count": null,
   "metadata": {
    "extensions": {
     "jupyter_dashboards": {
      "version": 1,
      "views": {
       "grid_default": {
        "hidden": true
       },
       "report_default": {}
      }
     }
    }
   },
   "outputs": [],
   "source": [
    "runner.live_plot(update_interval=0.1)"
   ]
  },
  {
   "cell_type": "markdown",
   "metadata": {
    "extensions": {
     "jupyter_dashboards": {
      "version": 1,
      "views": {
       "grid_default": {
        "col": 8,
        "height": 4,
        "hidden": false,
        "row": 127,
        "width": 4
       },
       "report_default": {}
      }
     }
    }
   },
   "source": [
    "# Balancing learner"
   ]
  },
  {
   "cell_type": "markdown",
   "metadata": {
    "extensions": {
     "jupyter_dashboards": {
      "version": 1,
      "views": {
       "grid_default": {
        "col": 0,
        "height": 4,
        "hidden": false,
        "row": 155,
        "width": 12
       },
       "report_default": {}
      }
     }
    }
   },
   "source": [
    "The balancing learner is a \"meta-learner\" that takes a list of learners. When you request a point from the balancing learner, it will query all of its \"children\" to figure out which one will give the most improvement.\n",
    "\n",
    "The balancing learner can for example be used to implement a poor-man's 2D learner by using the `Learner1D`."
   ]
  },
  {
   "cell_type": "code",
   "execution_count": null,
   "metadata": {
    "extensions": {
     "jupyter_dashboards": {
      "version": 1,
      "views": {
       "grid_default": {
        "hidden": true
       },
       "report_default": {}
      }
     }
    }
   },
   "outputs": [],
   "source": [
    "def h(x, offset=0):\n",
    "    a = 0.01\n",
    "    return x + a**2 / (a**2 + (x - offset)**2)\n",
    "\n",
    "learners = [adaptive.Learner1D(partial(h,\n",
    "                                       offset=random.uniform(-1, 1)),\n",
    "                                       bounds=(-1, 1))\n",
    "            for i in range(10)]\n",
    "\n",
    "bal_learner = adaptive.BalancingLearner(learners)\n",
    "runner = adaptive.Runner(bal_learner, goal=lambda l: l.loss() < 0.01)\n",
    "runner.live_info()"
   ]
  },
  {
   "cell_type": "code",
   "execution_count": null,
   "metadata": {
    "extensions": {
     "jupyter_dashboards": {
      "version": 1,
      "views": {
       "grid_default": {
        "hidden": true
       },
       "report_default": {}
      }
     }
    }
   },
   "outputs": [],
   "source": [
    "import holoviews as hv\n",
    "\n",
    "plotter = lambda learner: hv.Overlay([L.plot() for L in learner.learners])\n",
    "runner.live_plot(plotter=plotter, update_interval=0.3)"
   ]
  },
  {
   "cell_type": "markdown",
   "metadata": {
    "extensions": {
     "jupyter_dashboards": {
      "version": 1,
      "views": {
       "grid_default": {
        "col": 4,
        "height": 4,
        "hidden": false,
        "row": 127,
        "width": 4
       },
       "report_default": {}
      }
     }
    }
   },
   "source": [
    "# Custom adaptive logic for 1D and 2D"
   ]
  },
  {
   "cell_type": "markdown",
   "metadata": {
    "extensions": {
     "jupyter_dashboards": {
      "version": 1,
      "views": {
       "grid_default": {
        "col": 0,
        "height": 9,
        "hidden": false,
        "row": 131,
        "width": 12
       },
       "report_default": {}
      }
     }
    }
   },
   "source": [
    "`Learner1D` and `Learner2D` both work on the principle of subdividing their domain into subdomains, and assigning a property to each subdomain, which we call the *loss*. The algorithm for choosing the best place to evaluate our function is then simply *take the subdomain with the largest loss and add a point in the center, creating new subdomains around this point*. \n",
    "\n",
    "The *loss function* that defines the loss per subdomain is the place to define what regions of the domain are \"interesting\".\n",
    "\n",
    "The default loss function for `Learner1D` and `Learner2D` is sufficient for a wide range of common cases, but it of course does not work in all possible cases. For example, the default loss function will tend to get stuck on divergences.\n",
    "\n",
    "Both the `Learner1D` and `Learner2D` allow you to specify a *custom loss function*.\n",
    "\n",
    "\n",
    "Say we want to properly sample a function that contains divergences. A simple (but naive) strategy is to *uniformly* sample the domain:\n"
   ]
  },
  {
   "cell_type": "code",
   "execution_count": null,
   "metadata": {
    "extensions": {
     "jupyter_dashboards": {
      "version": 1,
      "views": {
       "grid_default": {
        "hidden": true
       },
       "report_default": {}
      }
     }
    }
   },
   "outputs": [],
   "source": [
    "def f_divergent_1d(x):\n",
    "    return 1 / x**2\n",
    "\n",
    "\n",
    "def uniform_sampling_1d(interval, xy_scale, function_values):\n",
    "    # Note that we never use 'function_values'; the loss is just the size of the subdomain\n",
    "    x_left, x_right = interval\n",
    "    x_scale, _ = xy_scale\n",
    "    dx = (x_right - x_left) / x_scale\n",
    "    return dx\n",
    "\n",
    "\n",
    "learner = adaptive.Learner1D(f_divergent_1d, bounds=(-1, 1),\n",
    "                             loss_per_interval=uniform_sampling_1d)\n",
    "runner = adaptive.BlockingRunner(learner, goal=lambda l: l.loss() < 0.01)\n",
    "learner.plot().select(y=(0, 10000))"
   ]
  },
  {
   "cell_type": "code",
   "execution_count": null,
   "metadata": {
    "extensions": {
     "jupyter_dashboards": {
      "version": 1,
      "views": {
       "grid_default": {
        "hidden": true
       },
       "report_default": {}
      }
     }
    }
   },
   "outputs": [],
   "source": [
    "%%opts EdgePaths (color='w') Image [logz=True]\n",
    "\n",
    "from adaptive.runner import SequentialExecutor\n",
    "\n",
    "def uniform_sampling_2d(ip):\n",
    "    from adaptive.learner.learner2D import areas\n",
    "    A = areas(ip)\n",
    "    return np.sqrt(A)\n",
    "\n",
    "def f_divergent_2d(xy):\n",
    "    x, y = xy\n",
    "    return 1 / (x**2 + y**2)\n",
    "\n",
    "learner = adaptive.Learner2D(f_divergent_2d, [(-1, 1), (-1, 1)], loss_per_triangle=uniform_sampling_2d)\n",
    "\n",
    "# this takes a while, so use the async Runner so we know *something* is happening\n",
    "runner = adaptive.Runner(learner, goal=lambda l: l.loss() < 0.02)\n",
    "runner.live_info()\n",
    "runner.live_plot(update_interval=0.2,\n",
    "                 plotter=lambda l: l.plot(tri_alpha=0.3).relabel('1 / (x^2 + y^2) in log scale'))"
   ]
  },
  {
   "cell_type": "markdown",
   "metadata": {
    "extensions": {
     "jupyter_dashboards": {
      "version": 1,
      "views": {
       "grid_default": {
        "col": 0,
        "height": 4,
        "hidden": false,
        "row": 140,
        "width": 12
       },
       "report_default": {}
      }
     }
    }
   },
   "source": [
    "The uniform sampling strategy is a common case to benchmark against, so the 1D and 2D versions are included in `adaptive` as `adaptive.learner.learner1D.uniform_sampling` and `adaptive.learner.learner2D.uniform_sampling`."
   ]
  },
  {
   "cell_type": "markdown",
   "metadata": {
    "extensions": {
     "jupyter_dashboards": {
      "version": 1,
      "views": {
       "grid_default": {
        "col": 0,
        "height": 7,
        "hidden": false,
        "row": 144,
        "width": 12
       },
       "report_default": {}
      }
     }
    }
   },
   "source": [
    "### Doing better\n",
    "\n",
    "Of course, using `adaptive` for uniform sampling is a bit of a waste!\n",
    "\n",
    "Let's see if we can do a bit better. Below we define a loss per subdomain that scales with the degree of nonlinearity of the function (this is very similar to the default loss function for `Learner2D`), but which is 0 for subdomains smaller than a certain area, and infinite for subdomains larger than a certain area.\n",
    "\n",
    "A loss defined in this way means that the adaptive algorithm will first prioritise subdomains that are too large (infinite loss). After all subdomains are appropriately small it will prioritise places where the function is very nonlinear, but will ignore subdomains that are too small (0 loss)."
   ]
  },
  {
   "cell_type": "code",
   "execution_count": null,
   "metadata": {
    "extensions": {
     "jupyter_dashboards": {
      "version": 1,
      "views": {
       "grid_default": {
        "hidden": true
       },
       "report_default": {}
      }
     }
    }
   },
   "outputs": [],
   "source": [
    "%%opts EdgePaths (color='w') Image [logz=True]\n",
    "\n",
    "def resolution_loss(ip, min_distance=0, max_distance=1):\n",
    "    \"\"\"min_distance and max_distance should be in between 0 and 1\n",
    "    because the total area is normalized to 1.\"\"\"\n",
    "\n",
    "    from adaptive.learner.learner2D import areas, deviations\n",
    "\n",
    "    A = areas(ip)\n",
    "\n",
    "    # 'deviations' returns an array of shape '(n, len(ip))', where\n",
    "    # 'n' is the  is the dimension of the output of the learned function\n",
    "    # In this case we know that the learned function returns a scalar,\n",
    "    # so 'deviations' returns an array of shape '(1, len(ip))'.\n",
    "    # It represents the deviation of the function value from a linear estimate\n",
    "    # over each triangular subdomain.\n",
    "    dev = deviations(ip)[0]\n",
    "    \n",
    "    # we add terms of the same dimension: dev == [distance], A == [distance**2]\n",
    "    loss = A + np.sqrt(A) * dev\n",
    "    \n",
    "    # Setting areas with a small area to zero such that they won't be chosen again\n",
    "    loss[A < min_distance**2] = 0\n",
    "    \n",
    "    # Setting triangles that have a size larger than max_distance to infinite loss\n",
    "    loss[A > max_distance**2] = np.inf\n",
    "\n",
    "    return loss\n",
    "\n",
    "loss = partial(resolution_loss, min_distance=0.01)\n",
    "\n",
    "learner = adaptive.Learner2D(f_divergent_2d, [(-1, 1), (-1, 1)], loss_per_triangle=loss)\n",
    "runner = adaptive.BlockingRunner(learner, goal=lambda l: l.loss() < 0.02)\n",
    "learner.plot(tri_alpha=0.3).relabel('1 / (x^2 + y^2) in log scale')"
   ]
  },
  {
   "cell_type": "markdown",
   "metadata": {
    "extensions": {
     "jupyter_dashboards": {
      "version": 1,
      "views": {
       "grid_default": {
        "col": 0,
        "height": 4,
        "hidden": false,
        "row": 151,
        "width": 12
       },
       "report_default": {}
      }
     }
    }
   },
   "source": [
    "Awesome! We zoom in on the singularity, but not at the expense of sampling the rest of the domain a reasonable amount.\n",
    "\n",
    "The above strategy is available as `adaptive.learner.learner2D.resolution_loss`."
   ]
  },
  {
   "cell_type": "markdown",
   "metadata": {
    "collapsed": true,
    "extensions": {
     "jupyter_dashboards": {
      "version": 1,
      "views": {
       "grid_default": {
        "col": 0,
        "height": 4,
        "hidden": false,
        "row": 159,
        "width": 4
       },
       "report_default": {}
      }
     }
    }
   },
   "source": [
    "# Using multiple cores"
   ]
  },
  {
   "cell_type": "markdown",
   "metadata": {
    "extensions": {
     "jupyter_dashboards": {
      "version": 1,
      "views": {
       "grid_default": {
        "col": 0,
        "height": 4,
        "hidden": false,
        "row": 163,
        "width": 12
       },
       "report_default": {}
      }
     }
    }
   },
   "source": [
    "Often you will want to evaluate the function on some remote computing resources. `adaptive` works out of the box with any framework that implements a [PEP 3148](https://www.python.org/dev/peps/pep-3148/) compliant executor that returns `concurrent.futures.Future` objects."
   ]
  },
  {
   "cell_type": "markdown",
   "metadata": {
    "extensions": {
     "jupyter_dashboards": {
      "version": 1,
      "views": {
       "grid_default": {
        "col": 4,
        "height": 4,
        "hidden": false,
        "row": 159,
        "width": 4
       },
       "report_default": {}
      }
     }
    }
   },
   "source": [
    "### [`concurrent.futures`](https://docs.python.org/3/library/concurrent.futures.html)"
   ]
  },
  {
   "cell_type": "markdown",
   "metadata": {
    "extensions": {
     "jupyter_dashboards": {
      "version": 1,
      "views": {
       "grid_default": {
        "col": 8,
        "height": 4,
        "hidden": false,
        "row": 159,
        "width": 4
       },
       "report_default": {}
      }
     }
    }
   },
   "source": [
    "On Unix-like systems by default `adaptive.Runner` creates a `ProcessPoolExecutor`, but you can also pass one explicitly e.g. to limit the number of workers:"
   ]
  },
  {
   "cell_type": "code",
   "execution_count": null,
   "metadata": {
    "extensions": {
     "jupyter_dashboards": {
      "version": 1,
      "views": {
       "grid_default": {
        "hidden": true
       },
       "report_default": {}
      }
     }
    }
   },
   "outputs": [],
   "source": [
    "from concurrent.futures import ProcessPoolExecutor\n",
    "\n",
    "executor = ProcessPoolExecutor(max_workers=4)\n",
    "\n",
    "learner = adaptive.Learner1D(f, bounds=(-1, 1))\n",
    "runner = adaptive.Runner(learner, executor=executor, goal=lambda l: l.loss() < 0.05)\n",
    "runner.live_info()\n",
    "runner.live_plot(update_interval=0.1)"
   ]
  },
  {
   "cell_type": "markdown",
   "metadata": {
    "extensions": {
     "jupyter_dashboards": {
      "version": 1,
      "views": {
       "grid_default": {
        "col": 0,
        "height": 4,
        "hidden": false,
        "row": 167,
        "width": 4
       },
       "report_default": {}
      }
     }
    }
   },
   "source": [
    "### [`ipyparallel`](https://ipyparallel.readthedocs.io/en/latest/intro.html)"
   ]
  },
  {
   "cell_type": "code",
   "execution_count": null,
   "metadata": {
    "extensions": {
     "jupyter_dashboards": {
      "version": 1,
      "views": {
       "grid_default": {
        "hidden": true
       },
       "report_default": {}
      }
     }
    }
   },
   "outputs": [],
   "source": [
    "import ipyparallel\n",
    "\n",
    "client = ipyparallel.Client()  # You will need to start an `ipcluster` to make this work\n",
    "\n",
    "learner = adaptive.Learner1D(f, bounds=(-1, 1))\n",
    "runner = adaptive.Runner(learner, executor=client, goal=lambda l: l.loss() < 0.01)\n",
    "runner.live_info()\n",
    "runner.live_plot()"
   ]
  },
  {
   "cell_type": "markdown",
   "metadata": {
    "extensions": {
     "jupyter_dashboards": {
      "version": 1,
      "views": {
       "grid_default": {
        "col": 4,
        "height": 4,
        "hidden": false,
        "row": 167,
        "width": 4
       },
       "report_default": {}
      }
     }
    }
   },
   "source": [
    "### [`distributed`](https://distributed.readthedocs.io/en/latest/)\n",
    "\n",
    "On Windows by default `adaptive.Runner` uses a `distributed.Client`."
   ]
  },
  {
   "cell_type": "code",
   "execution_count": null,
   "metadata": {
    "extensions": {
     "jupyter_dashboards": {
      "version": 1,
      "views": {
       "grid_default": {
        "hidden": true
       },
       "report_default": {}
      }
     }
    }
   },
   "outputs": [],
   "source": [
    "import distributed\n",
    "\n",
    "client = distributed.Client()\n",
    "\n",
    "learner = adaptive.Learner1D(f, bounds=(-1, 1))\n",
    "runner = adaptive.Runner(learner, executor=client, goal=lambda l: l.loss() < 0.01)\n",
    "runner.live_info()\n",
    "runner.live_plot(update_interval=0.1)"
   ]
  },
  {
   "cell_type": "markdown",
   "metadata": {
    "extensions": {
     "jupyter_dashboards": {
      "version": 1,
      "views": {
       "grid_default": {
        "col": 8,
        "height": 4,
        "hidden": false,
        "row": 167,
        "width": 4
       },
       "report_default": {}
      }
     }
    }
   },
   "source": [
    "---"
   ]
  }
 ],
 "metadata": {
  "extensions": {
   "jupyter_dashboards": {
    "activeView": "grid_default",
    "version": 1,
    "views": {
     "grid_default": {
      "cellMargin": 10,
      "defaultCellHeight": 20,
      "maxColumns": 12,
      "name": "grid",
      "type": "grid"
     },
     "report_default": {
      "name": "report",
      "type": "report"
     }
    }
   }
  },
  "kernelspec": {
   "display_name": "Python 3",
   "language": "python",
   "name": "python3"
  },
  "language_info": {
   "codemirror_mode": {
    "name": "ipython",
    "version": 3
   },
   "file_extension": ".py",
   "mimetype": "text/x-python",
   "name": "python",
   "nbconvert_exporter": "python",
   "pygments_lexer": "ipython3",
   "version": "3.6.4"
  }
 },
 "nbformat": 4,
 "nbformat_minor": 1
}
