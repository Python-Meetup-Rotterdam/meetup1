{
 "cells": [
  {
   "cell_type": "markdown",
   "metadata": {},
   "source": [
    "# Run length encoding\n",
    "\n",
    "Run-length encoding (RLE) is a very simple form of lossless data compression in which runs of data (that is, sequences in which the same data value occurs in many consecutive data elements) are stored as a single data value and count, rather than as the original run. This is most useful on data that contains many such runs. Consider, for example, simple graphic images such as icons, line drawings, and animations. It is not useful with files that don't have many runs as it could greatly increase the file size\n",
    "\n",
    "https://en.wikipedia.org/wiki/Run-length_encoding"
   ]
  },
  {
   "cell_type": "code",
   "execution_count": 2,
   "metadata": {},
   "outputs": [
    {
     "name": "stdout",
     "output_type": "stream",
     "text": [
      "1.13.3\n"
     ]
    }
   ],
   "source": [
    "from PIL import Image\n",
    "import numpy as np; print(np.__version__)"
   ]
  },
  {
   "cell_type": "code",
   "execution_count": 3,
   "metadata": {},
   "outputs": [
    {
     "name": "stdout",
     "output_type": "stream",
     "text": [
      "[0 0 0 0 0 0 0 0 0 0 0 0 0 0 0 0 0 0 0 0 0 0 0 0 0 0 0 0 0 0 0 0 0 0 0 0 0\n",
      " 0 0 0 0 0 0 0 0 0 0 0 0 0 0 0 0 0 0 0 0 0 0 0 0 0 0 0 0 0 0 0 0 0 0 0 0 0\n",
      " 0 0 0 0 0 0 0 0 0 4 4 0 0 0 0 0 1 1 1 1 1 1 1 1 1 1 1 1 1 1 1 1 1 1 0 0 0\n",
      " 0 0 0 4 0 0 0 0 0 0 0 0 0 0 0 0 0 0 0 0 0 0 0 0 0 0 0 0 0 0 0 0 0 0 0 0 0\n",
      " 0 0 0 0 0 0 0 0 0 0 0 0 0 0 0 0 0 0 0 0 0 0 0 0 0 0 0 0 0 0 0 0 0 0 0 0 0\n",
      " 0 0 0 0 0 0 0 0 0 0 0 0 0 0 0]\n"
     ]
    },
    {
     "data": {
      "image/png": "[encoded data removed]",
      "text/plain": [
       "<PIL.Image.Image image mode=P size=200x200 at 0x111F7D9B0>"
      ]
     },
     "execution_count": 3,
     "metadata": {},
     "output_type": "execute_result"
    }
   ],
   "source": [
    "logo = Image\\\n",
    "        .open('python-logo.png')\\\n",
    "        .convert(mode='P', palette=Image.ADAPTIVE, colors=5)\n",
    "data = np.array(logo).reshape(-1)\n",
    "print(data[0:200])\n",
    "logo"
   ]
  },
  {
   "cell_type": "markdown",
   "metadata": {},
   "source": [
    "# Pure python"
   ]
  },
  {
   "cell_type": "code",
   "execution_count": 4,
   "metadata": {},
   "outputs": [],
   "source": [
    "def rle_encode(sequence):\n",
    "    \"\"\"Run length encode array.\"\"\"\n",
    "    previous = sequence[0]\n",
    "    count = 1\n",
    "    out = []\n",
    "    for element in sequence[1:]:\n",
    "        if element == previous:\n",
    "            count += 1\n",
    "        else:\n",
    "            out.append((count, previous))\n",
    "            previous = element\n",
    "            count = 1\n",
    "    out.append((count, previous))\n",
    "    return out"
   ]
  },
  {
   "cell_type": "code",
   "execution_count": 5,
   "metadata": {},
   "outputs": [
    {
     "data": {
      "text/plain": [
       "[(1, 'a'), (3, 'b'), (7, 'c')]"
      ]
     },
     "execution_count": 5,
     "metadata": {},
     "output_type": "execute_result"
    }
   ],
   "source": [
    "rle_encode('abbbccccccc')"
   ]
  },
  {
   "cell_type": "code",
   "execution_count": 6,
   "metadata": {},
   "outputs": [],
   "source": [
    "def rle_decode(data):\n",
    "    \"\"\"Decode array with rle encoded data.\"\"\"\n",
    "    decoded = []\n",
    "    for count, element in data:\n",
    "        decoded.extend([element, ] * count)\n",
    "    return decoded"
   ]
  },
  {
   "cell_type": "code",
   "execution_count": 7,
   "metadata": {},
   "outputs": [
    {
     "data": {
      "text/plain": [
       "'abbbccccccc'"
      ]
     },
     "execution_count": 7,
     "metadata": {},
     "output_type": "execute_result"
    }
   ],
   "source": [
    "''.join(rle_decode([(1, 'a'), (3, 'b'), (7, 'c')]))"
   ]
  },
  {
   "cell_type": "code",
   "execution_count": 8,
   "metadata": {},
   "outputs": [],
   "source": [
    "import operator\n",
    "timings = {}\n",
    "\n",
    "def ratios(**new):\n",
    "    assert len(new) == 1\n",
    "    timings.update(**new)\n",
    "    last = list(new.values())[0]\n",
    "    print('\\n'.join('%10s: %7.2f' % (name, t / last)\n",
    "                    for name, t in sorted(timings.items(), key=operator.itemgetter(1))))"
   ]
  },
  {
   "cell_type": "code",
   "execution_count": 10,
   "metadata": {},
   "outputs": [
    {
     "name": "stdout",
     "output_type": "stream",
     "text": [
      "5.05 ms ± 39.2 µs per loop (mean ± std. dev. of 7 runs, 100 loops each)\n"
     ]
    }
   ],
   "source": [
    "%%timeit\n",
    "rle_encode(data)"
   ]
  },
  {
   "cell_type": "code",
   "execution_count": 11,
   "metadata": {},
   "outputs": [
    {
     "name": "stdout",
     "output_type": "stream",
     "text": [
      "    python:    1.00\n"
     ]
    }
   ],
   "source": [
    "ratios(python=5110)"
   ]
  },
  {
   "cell_type": "markdown",
   "metadata": {},
   "source": [
    "# Numpy"
   ]
  },
  {
   "cell_type": "code",
   "execution_count": 14,
   "metadata": {},
   "outputs": [],
   "source": [
    "def rle_encode_numpy(sequence):\n",
    "    diffs = np.concatenate(( np.array((True, )), np.diff(sequence)!=0))\n",
    "    indices = np.concatenate((np.where(diffs)[0],np.array((sequence.size, ))))\n",
    "    counts = np.diff(indices).astype('uint16')\n",
    "    values = sequence[diffs].astype('uint8')\n",
    "#     return counts, values\n",
    "    return np.rec.fromarrays((counts, values),names=('count','value'))"
   ]
  },
  {
   "cell_type": "code",
   "execution_count": null,
   "metadata": {},
   "outputs": [],
   "source": [
    "rle_encode_numpy(data)[0:5]"
   ]
  },
  {
   "cell_type": "code",
   "execution_count": 15,
   "metadata": {},
   "outputs": [
    {
     "name": "stdout",
     "output_type": "stream",
     "text": [
      "152 µs ± 2.01 µs per loop (mean ± std. dev. of 7 runs, 10000 loops each)\n"
     ]
    }
   ],
   "source": [
    "%%timeit \n",
    "rle_encode_numpy(data)"
   ]
  },
  {
   "cell_type": "code",
   "execution_count": null,
   "metadata": {},
   "outputs": [],
   "source": [
    "ratios(numpy=155)"
   ]
  },
  {
   "cell_type": "markdown",
   "metadata": {},
   "source": [
    "# Cython\n",
    "\n",
    "Cython is a superset of the Python programming language, designed to give C-like performance with code that is mostly written in Python.\n",
    "\n",
    "https://en.wikipedia.org/wiki/Cython"
   ]
  },
  {
   "cell_type": "code",
   "execution_count": null,
   "metadata": {},
   "outputs": [],
   "source": [
    "import cython; print(cython.__version__)\n",
    "%load_ext cython"
   ]
  },
  {
   "cell_type": "code",
   "execution_count": null,
   "metadata": {},
   "outputs": [],
   "source": [
    "%%cython -a\n",
    "def rle_encode_cython(sequence):\n",
    "    \"\"\"Run length encode array.\"\"\"\n",
    "    previous = sequence[0]\n",
    "    count = 1\n",
    "    out = []\n",
    "    for element in sequence[1:]:\n",
    "        if element == previous:\n",
    "            count += 1\n",
    "        else:\n",
    "            out.append((count, previous))\n",
    "            previous = element\n",
    "            count = 1\n",
    "    out.append((count, previous))\n",
    "    return out"
   ]
  },
  {
   "cell_type": "code",
   "execution_count": null,
   "metadata": {},
   "outputs": [],
   "source": [
    "rle_encode_cython(data)[0:5]"
   ]
  },
  {
   "cell_type": "code",
   "execution_count": null,
   "metadata": {},
   "outputs": [],
   "source": [
    "%%timeit \n",
    "rle_encode_cython(data)"
   ]
  },
  {
   "cell_type": "code",
   "execution_count": null,
   "metadata": {},
   "outputs": [],
   "source": [
    "ratios(cython=3340)"
   ]
  },
  {
   "cell_type": "code",
   "execution_count": null,
   "metadata": {},
   "outputs": [],
   "source": [
    "%%cython -a\n",
    "cimport numpy as np\n",
    "cimport cython\n",
    "\n",
    "def rle_encode_cython_types(np.uint8_t [:] sequence not None):\n",
    "    \"\"\"Run length encode array.\"\"\"\n",
    "    cdef unsigned long i, n, count = 1, size = sequence.size\n",
    "    cdef unsigned char element, previous = sequence[0]\n",
    "    out = []\n",
    "    for i in range(1,size):\n",
    "        element = sequence[i]\n",
    "        if element == previous:\n",
    "            count += 1\n",
    "        else:\n",
    "            out.append((count, previous))\n",
    "            previous = element\n",
    "            count = 1\n",
    "    out.append((count, previous))\n",
    "    return out"
   ]
  },
  {
   "cell_type": "code",
   "execution_count": null,
   "metadata": {},
   "outputs": [],
   "source": [
    "%%cython -a\n",
    "cimport numpy as np\n",
    "cimport cython\n",
    "\n",
    "def rle_encode_cython_types(np.uint8_t [:] sequence not None):\n",
    "    \"\"\"Run length encode array.\"\"\"\n",
    "    cdef unsigned long i, n, count = 1, size = sequence.size\n",
    "    cdef unsigned char element, previous = sequence[0]\n",
    "    out = []\n",
    "    for i in range(1,size):\n",
    "        element = sequence[i]\n",
    "        if element == previous:\n",
    "            count += 1\n",
    "        else:\n",
    "            out.append((count, previous))\n",
    "            previous = element\n",
    "            count = 1\n",
    "    out.append((count, previous))\n",
    "    return out\n",
    "\n",
    "\n",
    "    \"\"\"Run length encode array.\"\"\"\n",
    "    cdef unsigned long i, n, count = 1, size = sequence.size\n",
    "    cdef unsigned char previous = sequence[0]\n",
    "    cdef unsigned char element\n",
    "    \n",
    "        cdef np.int16_t[:] result_buffer\n",
    "    \n",
    "    result = np.recarray((1000,), dtype=[('x', int), ('y', float), ('z', int)])\n",
    "    result_buffer = result.view(np.int16)\n",
    "    out = []\n",
    "    for i in range(1,size):\n",
    "        element = sequence[i]\n",
    "        if element == previous:\n",
    "            count += 1\n",
    "        else:\n",
    "            out.append((count, previous))\n",
    "            previous = element\n",
    "            count = 1\n",
    "    out.append((count, previous))\n",
    "    return out"
   ]
  },
  {
   "cell_type": "code",
   "execution_count": null,
   "metadata": {},
   "outputs": [],
   "source": [
    "rle_encode_cython_types(data)[0:5]"
   ]
  },
  {
   "cell_type": "code",
   "execution_count": null,
   "metadata": {},
   "outputs": [],
   "source": [
    "%%timeit \n",
    "rle_encode_cython_types(data)"
   ]
  },
  {
   "cell_type": "code",
   "execution_count": null,
   "metadata": {},
   "outputs": [],
   "source": [
    "ratios(rle_encode_cython_types=1)"
   ]
  },
  {
   "cell_type": "code",
   "execution_count": null,
   "metadata": {},
   "outputs": [],
   "source": [
    "%%cython -a\n",
    "import numpy as np\n",
    "cimport numpy as np\n",
    "cimport cython\n",
    "\n",
    "data_type = np.uint8\n",
    "ctypedef np.uint8_t data_type_t\n",
    "    \n",
    "@cython.cdivision(True)\n",
    "@cython.boundscheck(False)\n",
    "@cython.nonecheck(False)\n",
    "@cython.wraparound(False)\n",
    "\n",
    "def rle_encode_cython_unsafe(data_type_t [:] sequence):\n",
    "    \"\"\"Run length encode array.\"\"\"\n",
    "    cdef unsigned long i, n=0, count = 1, size = 890\n",
    "    cdef unsigned char element, previous = sequence[0]\n",
    "\n",
    "    counts = np.empty(size,dtype=np.uint16)\n",
    "    cdef np.uint16_t[:] counts_buffer = np.empty(size,dtype=np.uint16).view(np.uint16)\n",
    "    values = np.empty(size,dtype=np.uint8)\n",
    "    cdef np.uint8_t[:] values_buffer = np.empty(size,dtype=np.uint8).view(np.uint8)\n",
    "    \n",
    "    for i in range(1,size):\n",
    "        element = sequence[i]\n",
    "        if element == previous:\n",
    "            count += 1\n",
    "        else:\n",
    "            n += 1\n",
    "            counts_buffer[n] = count\n",
    "            values_buffer[n] = previous\n",
    "            previous = element\n",
    "            count = 1\n",
    "    n += 1        \n",
    "    counts_buffer[n] = count\n",
    "    values_buffer[n] = previous\n",
    "    return (counts[:n], values[:n])\n",
    " "
   ]
  },
  {
   "cell_type": "code",
   "execution_count": null,
   "metadata": {},
   "outputs": [],
   "source": [
    "counts, values = rle_encode_cython_unsafe(data)\n",
    "print(counts[:5],values[:5])"
   ]
  },
  {
   "cell_type": "code",
   "execution_count": null,
   "metadata": {},
   "outputs": [],
   "source": [
    "%%timeit \n",
    "rle_encode_cython_unsafe(data)"
   ]
  },
  {
   "cell_type": "markdown",
   "metadata": {},
   "source": [
    "# Numba\n",
    "Using [Just-in-time compilation](https://en.wikipedia.org/wiki/Just-in-time_compilation)"
   ]
  },
  {
   "cell_type": "code",
   "execution_count": null,
   "metadata": {},
   "outputs": [],
   "source": [
    "import numba; print(numba.__version__)"
   ]
  },
  {
   "cell_type": "code",
   "execution_count": null,
   "metadata": {},
   "outputs": [],
   "source": [
    "@numba.jit\n",
    "def rle_encode_numba(sequence):\n",
    "    \"\"\"Run length encode array.\"\"\"\n",
    "    previous = sequence[0]\n",
    "    count = 1\n",
    "    out = []\n",
    "    for element in sequence[1:]:\n",
    "        if element == previous:\n",
    "            count += 1\n",
    "        else:\n",
    "            out.append((count, previous))\n",
    "            previous = element\n",
    "            count = 1\n",
    "    out.append((count, previous))\n",
    "    return out"
   ]
  },
  {
   "cell_type": "code",
   "execution_count": null,
   "metadata": {},
   "outputs": [],
   "source": [
    "rle_encode_numpy(data)[0:5]"
   ]
  },
  {
   "cell_type": "code",
   "execution_count": null,
   "metadata": {},
   "outputs": [],
   "source": [
    "%%timeit \n",
    "rle_encode_numba(data)"
   ]
  },
  {
   "cell_type": "code",
   "execution_count": null,
   "metadata": {},
   "outputs": [],
   "source": [
    "ratios(numba=1)"
   ]
  }
 ],
 "metadata": {
  "kernelspec": {
   "display_name": "Python 3",
   "language": "python",
   "name": "python3"
  },
  "language_info": {
   "codemirror_mode": {
    "name": "ipython",
    "version": 3
   },
   "file_extension": ".py",
   "mimetype": "text/x-python",
   "name": "python",
   "nbconvert_exporter": "python",
   "pygments_lexer": "ipython3",
   "version": "3.6.4"
  }
 },
 "nbformat": 4,
 "nbformat_minor": 2
}
